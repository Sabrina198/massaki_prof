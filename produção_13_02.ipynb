{
  "nbformat": 4,
  "nbformat_minor": 0,
  "metadata": {
    "colab": {
      "provenance": [],
      "authorship_tag": "ABX9TyMz25f0fG8Fk4AyYp1l0dL1",
      "include_colab_link": true
    },
    "kernelspec": {
      "name": "python3",
      "display_name": "Python 3"
    },
    "language_info": {
      "name": "python"
    }
  },
  "cells": [
    {
      "cell_type": "markdown",
      "metadata": {
        "id": "view-in-github",
        "colab_type": "text"
      },
      "source": [
        "<a href=\"https://colab.research.google.com/github/Sabrina198/massaki_prof/blob/main/produ%C3%A7%C3%A3o_13_02.ipynb\" target=\"_parent\"><img src=\"https://colab.research.google.com/assets/colab-badge.svg\" alt=\"Open In Colab\"/></a>"
      ]
    },
    {
      "cell_type": "code",
      "source": [
        "from MinhasFuncoes import *"
      ],
      "metadata": {
        "id": "T-C4prf5yH91"
      },
      "execution_count": 11,
      "outputs": []
    },
    {
      "cell_type": "code",
      "source": [
        " b = float(input(\"Digite o valor da base: \"))\n",
        " h = float (input(\"Digite o valor da altura: \"))\n",
        " A = AreaTriangulo(b, h)\n",
        " print(\"Area triangulo = \", A)"
      ],
      "metadata": {
        "colab": {
          "base_uri": "https://localhost:8080/"
        },
        "id": "RGojfSPVrLHV",
        "outputId": "69422c42-f540-4e64-a434-cf02c2d74862"
      },
      "execution_count": 10,
      "outputs": [
        {
          "output_type": "stream",
          "name": "stdout",
          "text": [
            "Digite o valor da base: 4\n",
            "Digite o valor da altura: 5\n",
            "Area triangulo =  10.0\n"
          ]
        }
      ]
    }
  ]
}