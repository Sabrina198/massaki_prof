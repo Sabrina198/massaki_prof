{
  "nbformat": 4,
  "nbformat_minor": 0,
  "metadata": {
    "colab": {
      "provenance": [],
      "toc_visible": true,
      "name": "aula_25set24",
      "authorship_tag": "ABX9TyPxUXw6knXvZzT6uEMFmOf4",
      "include_colab_link": true
    },
    "kernelspec": {
      "name": "python3",
      "display_name": "Python 3"
    },
    "language_info": {
      "name": "python"
    }
  },
  "cells": [
    {
      "cell_type": "markdown",
      "metadata": {
        "id": "view-in-github",
        "colab_type": "text"
      },
      "source": [
        "<a href=\"https://colab.research.google.com/github/Sabrina198/massaki_prof/blob/main/aula_25set24.ipynb\" target=\"_parent\"><img src=\"https://colab.research.google.com/assets/colab-badge.svg\" alt=\"Open In Colab\"/></a>"
      ]
    },
    {
      "cell_type": "code",
      "execution_count": null,
      "metadata": {
        "id": "OU50uxssQsh1"
      },
      "outputs": [],
      "source": []
    },
    {
      "cell_type": "markdown",
      "source": [
        "#contar de 0 ate 9 com for"
      ],
      "metadata": {
        "id": "wESDsyDdWvas"
      }
    },
    {
      "cell_type": "code",
      "source": [
        "for  i in range (0, 10,1):\n",
        "  print(i)\n"
      ],
      "metadata": {
        "colab": {
          "base_uri": "https://localhost:8080/"
        },
        "id": "9JZISLUiW1_8",
        "outputId": "384cc87d-0408-4a7c-ca29-b37dffa70203"
      },
      "execution_count": null,
      "outputs": [
        {
          "output_type": "stream",
          "name": "stdout",
          "text": [
            "0\n",
            "1\n",
            "2\n",
            "3\n",
            "4\n",
            "5\n",
            "6\n",
            "7\n",
            "8\n",
            "9\n"
          ]
        }
      ]
    },
    {
      "cell_type": "code",
      "source": [],
      "metadata": {
        "id": "r_GRnXVoX9kl"
      },
      "execution_count": null,
      "outputs": []
    },
    {
      "cell_type": "markdown",
      "source": [
        "#contar usando o while\n"
      ],
      "metadata": {
        "id": "W3Xgb0DeX95t"
      }
    },
    {
      "cell_type": "code",
      "source": [
        "# for i in range(0, 10,1):\n",
        "#  print(i)\n",
        "# i=0\n",
        "while i>10:\n",
        "print(i)\n",
        "i=i+1"
      ],
      "metadata": {
        "colab": {
          "base_uri": "https://localhost:8080/",
          "height": 106
        },
        "id": "OqfXWfbvYQFv",
        "outputId": "90973a0d-595d-4105-9af8-4f940e149c96"
      },
      "execution_count": null,
      "outputs": [
        {
          "output_type": "error",
          "ename": "IndentationError",
          "evalue": "expected an indented block after 'while' statement on line 4 (<ipython-input-6-f13fd5cea895>, line 5)",
          "traceback": [
            "\u001b[0;36m  File \u001b[0;32m\"<ipython-input-6-f13fd5cea895>\"\u001b[0;36m, line \u001b[0;32m5\u001b[0m\n\u001b[0;31m    print(i)\u001b[0m\n\u001b[0m    ^\u001b[0m\n\u001b[0;31mIndentationError\u001b[0m\u001b[0;31m:\u001b[0m expected an indented block after 'while' statement on line 4\n"
          ]
        }
      ]
    },
    {
      "cell_type": "code",
      "source": [
        "while True:\n",
        "# realizar a soma\n",
        "input(\"realizar a soma com duas variaveis: \")\n",
        "# Solicita as duas variaveis\n",
        "try:\n",
        "num1 = float(input(\"digite o primiro número: \"))\n",
        "num2= float(input(\"digite o segundo numero: \"))\n",
        "\n",
        "# Realiza a soma\n",
        "soma = num1 + num2\n",
        "print(f \"A soma de {num1} e {num2} é {soma}. \")\n",
        "except ValueError\n",
        "\n",
        "print(\"digite valores numericos validos,: \")\n",
        "elif == \"n\" :\n",
        "\n",
        "\n",
        "\n",
        "\n",
        "\n"
      ],
      "metadata": {
        "colab": {
          "base_uri": "https://localhost:8080/",
          "height": 106
        },
        "id": "J3YhbjKVdPlz",
        "outputId": "cc9595f8-8060-4811-a92f-46100869530a"
      },
      "execution_count": null,
      "outputs": [
        {
          "output_type": "error",
          "ename": "IndentationError",
          "evalue": "expected an indented block after 'while' statement on line 1 (<ipython-input-10-5f90ac8ce3bb>, line 3)",
          "traceback": [
            "\u001b[0;36m  File \u001b[0;32m\"<ipython-input-10-5f90ac8ce3bb>\"\u001b[0;36m, line \u001b[0;32m3\u001b[0m\n\u001b[0;31m    input(\"realizar a soma com duas variaveis: \")\u001b[0m\n\u001b[0m    ^\u001b[0m\n\u001b[0;31mIndentationError\u001b[0m\u001b[0;31m:\u001b[0m expected an indented block after 'while' statement on line 1\n"
          ]
        }
      ]
    }
  ]
}